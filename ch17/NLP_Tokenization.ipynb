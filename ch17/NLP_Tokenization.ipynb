{
  "nbformat": 4,
  "nbformat_minor": 0,
  "metadata": {
    "colab": {
      "name": "NLP_Tokenization.ipynb",
      "provenance": [],
      "collapsed_sections": [],
      "authorship_tag": "ABX9TyOjVOYGpfn5LuLArsKrx6Jj",
      "include_colab_link": true
    },
    "kernelspec": {
      "name": "python3",
      "display_name": "Python 3"
    }
  },
  "cells": [
    {
      "cell_type": "markdown",
      "metadata": {
        "id": "view-in-github",
        "colab_type": "text"
      },
      "source": [
        "<a href=\"https://colab.research.google.com/github/WhyJYJ/deeplearning-for-everyone/blob/master/ch17/NLP_Tokenization.ipynb\" target=\"_parent\"><img src=\"https://colab.research.google.com/assets/colab-badge.svg\" alt=\"Open In Colab\"/></a>"
      ]
    },
    {
      "cell_type": "markdown",
      "metadata": {
        "id": "LRpW_gDvakfC",
        "colab_type": "text"
      },
      "source": [
        "# 17장 딥러닝을 이용한 자연어 처리\n",
        "17-1 주어진 문장을 '단어'로 토큰화 하기"
      ]
    },
    {
      "cell_type": "markdown",
      "metadata": {
        "id": "HDt1LCvIANo5",
        "colab_type": "text"
      },
      "source": [
        "**자연어** : 우리가 평소에 말하는 음성이나 텍스트\n",
        "\n",
        "**자연어 처리** : 음성이나 텍스트를 컴퓨터가 인식하고 처리하는 것"
      ]
    },
    {
      "cell_type": "code",
      "metadata": {
        "id": "tN2mn-2sAK59",
        "colab_type": "code",
        "colab": {}
      },
      "source": [
        "from tensorflow.keras.preprocessing.text import text_to_word_sequence\n",
        "from tensorflow.keras.preprocessing.text import Tokenizer"
      ],
      "execution_count": 0,
      "outputs": []
    },
    {
      "cell_type": "markdown",
      "metadata": {
        "id": "QT3xMswBAVg_",
        "colab_type": "text"
      },
      "source": [
        "**텍스트의 토큰화**\n",
        "\n",
        "컴퓨터 알고리즘은 수치로 된 데이터만 이해할 뿐 텍스트를 이해할 수 없기 때문에 텍스트를 정제하는 **전처리 과정**이 필요.\n",
        "\n",
        "**토큰** : 텍스트를 단어별, 문장별, 형태소별로 나눌 수 있는데, 이렇게 나누어진 하나의 단위\n",
        "\n",
        "**토큰화** : 텍스트를 잘게 나누는 과정"
      ]
    },
    {
      "cell_type": "code",
      "metadata": {
        "id": "zdd3xAl9ApMD",
        "colab_type": "code",
        "colab": {
          "base_uri": "https://localhost:8080/",
          "height": 122
        },
        "outputId": "f3241e4a-5d91-473d-ba10-815e715a753d"
      },
      "source": [
        "# 전처리할 텍스트\n",
        "text = '해보지 않으면 해낼 수 없다'\n",
        " \n",
        "# 해당 텍스트를 토큰화\n",
        "result = text_to_word_sequence(text)\n",
        "print(\"\\n원문:\\n\", text)\n",
        "print(\"\\n토큰화:\\n\", result)"
      ],
      "execution_count": 2,
      "outputs": [
        {
          "output_type": "stream",
          "text": [
            "\n",
            "원문:\n",
            " 해보지 않으면 해낼 수 없다\n",
            "\n",
            "토큰화:\n",
            " ['해보지', '않으면', '해낼', '수', '없다']\n"
          ],
          "name": "stdout"
        }
      ]
    },
    {
      "cell_type": "markdown",
      "metadata": {
        "id": "Y9kJfxJYAtpr",
        "colab_type": "text"
      },
      "source": [
        "**단어 빈도수 세기**"
      ]
    },
    {
      "cell_type": "code",
      "metadata": {
        "id": "FCZK7-0raZXm",
        "colab_type": "code",
        "outputId": "b497a2ef-8d6b-4445-e822-9ec73789631f",
        "colab": {
          "base_uri": "https://localhost:8080/",
          "height": 230
        }
      },
      "source": [
        "#전처리할 텍스트\n",
        "docs = ['먼저 텍스트의 각 단어를 나누어 토큰화 합니다.',\n",
        "       '텍스트의 단어로 토큰화 해야 딥러닝에서 인식됩니다.',\n",
        "       '토큰화 한 결과는 딥러닝에서 사용 할 수 있습니다.',\n",
        "       ]\n",
        " \n",
        "# 토큰화 함수를 이용해 전처리 하는 과정\n",
        "token = Tokenizer()             # 토큰화 함수 지정\n",
        "token.fit_on_texts(docs)       # 토큰화 함수에 문장 적용\n",
        " \n",
        "#단어의 빈도수를 계산한 결과를 각 옵션에 맞추어 출력\n",
        " \n",
        "print(\"\\n단어 카운트:\\n\", token.word_counts) \n",
        "#Tokenizer()의 word_counts 함수는 순서를 기억하는 OrderedDict클래스를 사용합니다.\n",
        " \n",
        "#출력되는 순서는 랜덤\n",
        "print(\"\\n문장 카운트: \", token.document_count)\n",
        "print(\"\\n각 단어가 몇개의 문장에 포함되어 있는가:\\n\", token.word_docs)\n",
        "print(\"\\n각 단어에 매겨진 인덱스 값:\\n\",  token.word_index)"
      ],
      "execution_count": 3,
      "outputs": [
        {
          "output_type": "stream",
          "text": [
            "\n",
            "단어 카운트:\n",
            " OrderedDict([('먼저', 1), ('텍스트의', 2), ('각', 1), ('단어를', 1), ('나누어', 1), ('토큰화', 3), ('합니다', 1), ('단어로', 1), ('해야', 1), ('딥러닝에서', 2), ('인식됩니다', 1), ('한', 1), ('결과는', 1), ('사용', 1), ('할', 1), ('수', 1), ('있습니다', 1)])\n",
            "\n",
            "문장 카운트:  3\n",
            "\n",
            "각 단어가 몇개의 문장에 포함되어 있는가:\n",
            " defaultdict(<class 'int'>, {'각': 1, '나누어': 1, '먼저': 1, '토큰화': 3, '단어를': 1, '합니다': 1, '텍스트의': 2, '딥러닝에서': 2, '해야': 1, '단어로': 1, '인식됩니다': 1, '사용': 1, '수': 1, '있습니다': 1, '할': 1, '한': 1, '결과는': 1})\n",
            "\n",
            "각 단어에 매겨진 인덱스 값:\n",
            " {'토큰화': 1, '텍스트의': 2, '딥러닝에서': 3, '먼저': 4, '각': 5, '단어를': 6, '나누어': 7, '합니다': 8, '단어로': 9, '해야': 10, '인식됩니다': 11, '한': 12, '결과는': 13, '사용': 14, '할': 15, '수': 16, '있습니다': 17}\n"
          ],
          "name": "stdout"
        }
      ]
    }
  ]
}
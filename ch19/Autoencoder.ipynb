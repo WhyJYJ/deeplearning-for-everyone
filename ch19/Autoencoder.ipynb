{
  "nbformat": 4,
  "nbformat_minor": 0,
  "metadata": {
    "kernelspec": {
      "display_name": "Python 3",
      "language": "python",
      "name": "python3"
    },
    "language_info": {
      "codemirror_mode": {
        "name": "ipython",
        "version": 3
      },
      "file_extension": ".py",
      "mimetype": "text/x-python",
      "name": "python",
      "nbconvert_exporter": "python",
      "pygments_lexer": "ipython3",
      "version": "3.6.9"
    },
    "colab": {
      "name": "Autoencoder.ipynb",
      "provenance": [],
      "collapsed_sections": [],
      "include_colab_link": true
    }
  },
  "cells": [
    {
      "cell_type": "markdown",
      "metadata": {
        "id": "view-in-github",
        "colab_type": "text"
      },
      "source": [
        "<a href=\"https://colab.research.google.com/github/WhyJYJ/deeplearning-for-everyone/blob/master/ch19/Autoencoder.ipynb\" target=\"_parent\"><img src=\"https://colab.research.google.com/assets/colab-badge.svg\" alt=\"Open In Colab\"/></a>"
      ]
    },
    {
      "cell_type": "markdown",
      "metadata": {
        "id": "1qOIpadW9-SY",
        "colab_type": "text"
      },
      "source": [
        "# 19장 세상에 없는 얼굴 GAN, 오토인코더\n",
        "19-2 오토인코더 실습하기"
      ]
    },
    {
      "cell_type": "markdown",
      "metadata": {
        "id": "16835YCd-RO0",
        "colab_type": "text"
      },
      "source": [
        "***오토인코더(Auto-Encoder, AE)***\n",
        "\n",
        "* 입력 데이터의 특징을 효율적으로 담아낸 이미지를 만들어 냄\n",
        "\n",
        "\n"
      ]
    },
    {
      "cell_type": "code",
      "metadata": {
        "id": "ew38JYA5FmX_",
        "colab_type": "code",
        "colab": {
          "base_uri": "https://localhost:8080/",
          "height": 52
        },
        "outputId": "ff23c529-b757-4eee-853c-9fb199ce1d4a"
      },
      "source": [
        "from tensorflow.keras.datasets import mnist\n",
        "from tensorflow.keras.models import Sequential, Model\n",
        "from tensorflow.keras.layers import Input, Dense, Conv2D, MaxPooling2D, UpSampling2D, Flatten, Reshape\n",
        "import matplotlib.pyplot as plt\n",
        "import numpy as np\n",
        "\n",
        "#MNIST데이터 셋을 불러옴\n",
        "\n",
        "(X_train, _), (X_test, _) = mnist.load_data()\n",
        "X_train = X_train.reshape(X_train.shape[0], 28, 28, 1).astype('float32') / 255\n",
        "X_test = X_test.reshape(X_test.shape[0], 28, 28, 1).astype('float32') / 255\n",
        "\n",
        "#생성자 모델을 생성\n",
        "autoencoder = Sequential()"
      ],
      "execution_count": 1,
      "outputs": [
        {
          "output_type": "stream",
          "text": [
            "Downloading data from https://storage.googleapis.com/tensorflow/tf-keras-datasets/mnist.npz\n",
            "11493376/11490434 [==============================] - 0s 0us/step\n"
          ],
          "name": "stdout"
        }
      ]
    },
    {
      "cell_type": "code",
      "metadata": {
        "id": "KU7ounlNH2Oe",
        "colab_type": "code",
        "colab": {}
      },
      "source": [
        "# 인코딩 - 차원을 줄임\n",
        "autoencoder.add(Conv2D(16, kernel_size=3, padding='same', input_shape=(28,28,1), activation='relu'))\n",
        "autoencoder.add(MaxPooling2D(pool_size=2, padding='same'))\n",
        "autoencoder.add(Conv2D(8, kernel_size=3, activation='relu', padding='same'))\n",
        "autoencoder.add(MaxPooling2D(pool_size=2, padding='same'))\n",
        "autoencoder.add(Conv2D(8, kernel_size=3, strides=2, padding='same', activation='relu'))"
      ],
      "execution_count": 0,
      "outputs": []
    },
    {
      "cell_type": "markdown",
      "metadata": {
        "id": "FxO-vnZhIFr7",
        "colab_type": "text"
      },
      "source": [
        "MaxPooling 층은 두 번, Upsampling 층은 세 번 why?\n",
        "\n",
        "=> 크기를 유지시켜 주는 패딩 과정이 없으므로 마스크가 적용되면서 크기가 줄어듬"
      ]
    },
    {
      "cell_type": "code",
      "metadata": {
        "id": "jdt-_Z0PFv9p",
        "colab_type": "code",
        "colab": {
          "base_uri": "https://localhost:8080/",
          "height": 580
        },
        "outputId": "08e396f8-57b3-44dc-fa60-fd83c7c4815f"
      },
      "source": [
        "# 디코딩 - 차원을 점차 늘려 입력 값과 똑같은 크기의 출력 값 내보냄\n",
        "autoencoder.add(Conv2D(8, kernel_size=3, padding='same', activation='relu'))\n",
        "autoencoder.add(UpSampling2D())\n",
        "autoencoder.add(Conv2D(8, kernel_size=3, padding='same', activation='relu'))\n",
        "autoencoder.add(UpSampling2D())\n",
        "autoencoder.add(Conv2D(16, kernel_size=3, activation='relu')) # Padding x\n",
        "autoencoder.add(UpSampling2D())\n",
        "autoencoder.add(Conv2D(1, kernel_size=3, padding='same', activation='sigmoid'))\n",
        "\n",
        "# 전체 구조를 확인\n",
        "autoencoder.summary()"
      ],
      "execution_count": 3,
      "outputs": [
        {
          "output_type": "stream",
          "text": [
            "Model: \"sequential\"\n",
            "_________________________________________________________________\n",
            "Layer (type)                 Output Shape              Param #   \n",
            "=================================================================\n",
            "conv2d (Conv2D)              (None, 28, 28, 16)        160       \n",
            "_________________________________________________________________\n",
            "max_pooling2d (MaxPooling2D) (None, 14, 14, 16)        0         \n",
            "_________________________________________________________________\n",
            "conv2d_1 (Conv2D)            (None, 14, 14, 8)         1160      \n",
            "_________________________________________________________________\n",
            "max_pooling2d_1 (MaxPooling2 (None, 7, 7, 8)           0         \n",
            "_________________________________________________________________\n",
            "conv2d_2 (Conv2D)            (None, 4, 4, 8)           584       \n",
            "_________________________________________________________________\n",
            "conv2d_3 (Conv2D)            (None, 4, 4, 8)           584       \n",
            "_________________________________________________________________\n",
            "up_sampling2d (UpSampling2D) (None, 8, 8, 8)           0         \n",
            "_________________________________________________________________\n",
            "conv2d_4 (Conv2D)            (None, 8, 8, 8)           584       \n",
            "_________________________________________________________________\n",
            "up_sampling2d_1 (UpSampling2 (None, 16, 16, 8)         0         \n",
            "_________________________________________________________________\n",
            "conv2d_5 (Conv2D)            (None, 14, 14, 16)        1168      \n",
            "_________________________________________________________________\n",
            "up_sampling2d_2 (UpSampling2 (None, 28, 28, 16)        0         \n",
            "_________________________________________________________________\n",
            "conv2d_6 (Conv2D)            (None, 28, 28, 1)         145       \n",
            "=================================================================\n",
            "Total params: 4,385\n",
            "Trainable params: 4,385\n",
            "Non-trainable params: 0\n",
            "_________________________________________________________________\n"
          ],
          "name": "stdout"
        }
      ]
    },
    {
      "cell_type": "code",
      "metadata": {
        "id": "leoqOkdl0Dpa",
        "colab_type": "code",
        "outputId": "a4fad16b-fc2b-42ab-90f8-ca90c893c270",
        "colab": {
          "base_uri": "https://localhost:8080/",
          "height": 1000
        }
      },
      "source": [
        "# 컴파일 및 학습을 하는 부분\n",
        "autoencoder.compile(optimizer='adam', loss='binary_crossentropy')\n",
        "autoencoder.fit(X_train, X_train, epochs=50, batch_size=128, validation_data=(X_test, X_test))\n",
        "\n",
        "#학습된 결과를 출력하는 부분\n",
        "random_test = np.random.randint(X_test.shape[0], size=5)  #테스트할 이미지를 랜덤하게 불러옴\n",
        "ae_imgs = autoencoder.predict(X_test)  #앞서 만든 오토인코더 모델에 집어 넣음\n",
        "\n",
        "plt.figure(figsize=(7, 2))  #출력될 이미지의 크기를 정함\n",
        "\n",
        "for i, image_idx in enumerate(random_test):    #랜덤하게 뽑은 이미지를 차례로 나열\n",
        "   ax = plt.subplot(2, 7, i + 1) \n",
        "   plt.imshow(X_test[image_idx].reshape(28, 28))  #테스트할 이미지를 먼저 그대로 보여줌\n",
        "   ax.axis('off')\n",
        "   ax = plt.subplot(2, 7, 7 + i +1)\n",
        "   plt.imshow(ae_imgs[image_idx].reshape(28, 28))  #오토인코딩 결과를 다음열에 출력\n",
        "   ax.axis('off')\n",
        "plt.show()\n"
      ],
      "execution_count": 4,
      "outputs": [
        {
          "output_type": "stream",
          "text": [
            "Epoch 1/50\n",
            "469/469 [==============================] - 79s 169ms/step - loss: 0.2177 - val_loss: 0.1413\n",
            "Epoch 2/50\n",
            "469/469 [==============================] - 79s 169ms/step - loss: 0.1292 - val_loss: 0.1195\n",
            "Epoch 3/50\n",
            "469/469 [==============================] - 79s 168ms/step - loss: 0.1169 - val_loss: 0.1121\n",
            "Epoch 4/50\n",
            "469/469 [==============================] - 79s 168ms/step - loss: 0.1115 - val_loss: 0.1079\n",
            "Epoch 5/50\n",
            "469/469 [==============================] - 79s 169ms/step - loss: 0.1079 - val_loss: 0.1046\n",
            "Epoch 6/50\n",
            "469/469 [==============================] - 79s 169ms/step - loss: 0.1051 - val_loss: 0.1023\n",
            "Epoch 7/50\n",
            "469/469 [==============================] - 80s 170ms/step - loss: 0.1029 - val_loss: 0.1004\n",
            "Epoch 8/50\n",
            "469/469 [==============================] - 80s 170ms/step - loss: 0.1009 - val_loss: 0.0985\n",
            "Epoch 9/50\n",
            "469/469 [==============================] - 80s 170ms/step - loss: 0.0994 - val_loss: 0.0973\n",
            "Epoch 10/50\n",
            "469/469 [==============================] - 80s 170ms/step - loss: 0.0981 - val_loss: 0.0965\n",
            "Epoch 11/50\n",
            "469/469 [==============================] - 80s 171ms/step - loss: 0.0971 - val_loss: 0.0957\n",
            "Epoch 12/50\n",
            "469/469 [==============================] - 80s 170ms/step - loss: 0.0962 - val_loss: 0.0942\n",
            "Epoch 13/50\n",
            "469/469 [==============================] - 80s 171ms/step - loss: 0.0954 - val_loss: 0.0939\n",
            "Epoch 14/50\n",
            "469/469 [==============================] - 80s 170ms/step - loss: 0.0948 - val_loss: 0.0930\n",
            "Epoch 15/50\n",
            "469/469 [==============================] - 80s 171ms/step - loss: 0.0942 - val_loss: 0.0924\n",
            "Epoch 16/50\n",
            "469/469 [==============================] - 79s 168ms/step - loss: 0.0936 - val_loss: 0.0920\n",
            "Epoch 17/50\n",
            "469/469 [==============================] - 79s 168ms/step - loss: 0.0931 - val_loss: 0.0915\n",
            "Epoch 18/50\n",
            "469/469 [==============================] - 79s 168ms/step - loss: 0.0927 - val_loss: 0.0914\n",
            "Epoch 19/50\n",
            "469/469 [==============================] - 79s 168ms/step - loss: 0.0922 - val_loss: 0.0907\n",
            "Epoch 20/50\n",
            "469/469 [==============================] - 79s 169ms/step - loss: 0.0919 - val_loss: 0.0905\n",
            "Epoch 21/50\n",
            "469/469 [==============================] - 80s 170ms/step - loss: 0.0915 - val_loss: 0.0899\n",
            "Epoch 22/50\n",
            "469/469 [==============================] - 80s 170ms/step - loss: 0.0912 - val_loss: 0.0897\n",
            "Epoch 23/50\n",
            "469/469 [==============================] - 79s 168ms/step - loss: 0.0908 - val_loss: 0.0894\n",
            "Epoch 24/50\n",
            "469/469 [==============================] - 79s 169ms/step - loss: 0.0905 - val_loss: 0.0890\n",
            "Epoch 25/50\n",
            "469/469 [==============================] - 80s 170ms/step - loss: 0.0902 - val_loss: 0.0887\n",
            "Epoch 26/50\n",
            "469/469 [==============================] - 80s 171ms/step - loss: 0.0899 - val_loss: 0.0889\n",
            "Epoch 27/50\n",
            "469/469 [==============================] - 80s 171ms/step - loss: 0.0896 - val_loss: 0.0881\n",
            "Epoch 28/50\n",
            "469/469 [==============================] - 81s 172ms/step - loss: 0.0893 - val_loss: 0.0880\n",
            "Epoch 29/50\n",
            "469/469 [==============================] - 81s 173ms/step - loss: 0.0889 - val_loss: 0.0880\n",
            "Epoch 30/50\n",
            "469/469 [==============================] - 81s 173ms/step - loss: 0.0886 - val_loss: 0.0872\n",
            "Epoch 31/50\n",
            "469/469 [==============================] - 82s 175ms/step - loss: 0.0883 - val_loss: 0.0872\n",
            "Epoch 32/50\n",
            "469/469 [==============================] - 81s 174ms/step - loss: 0.0881 - val_loss: 0.0868\n",
            "Epoch 33/50\n",
            "469/469 [==============================] - 81s 173ms/step - loss: 0.0878 - val_loss: 0.0882\n",
            "Epoch 34/50\n",
            "469/469 [==============================] - 81s 173ms/step - loss: 0.0876 - val_loss: 0.0863\n",
            "Epoch 35/50\n",
            "469/469 [==============================] - 81s 172ms/step - loss: 0.0873 - val_loss: 0.0861\n",
            "Epoch 36/50\n",
            "469/469 [==============================] - 81s 173ms/step - loss: 0.0871 - val_loss: 0.0857\n",
            "Epoch 37/50\n",
            "469/469 [==============================] - 81s 172ms/step - loss: 0.0869 - val_loss: 0.0856\n",
            "Epoch 38/50\n",
            "469/469 [==============================] - 81s 172ms/step - loss: 0.0867 - val_loss: 0.0859\n",
            "Epoch 39/50\n",
            "469/469 [==============================] - 80s 170ms/step - loss: 0.0865 - val_loss: 0.0854\n",
            "Epoch 40/50\n",
            "469/469 [==============================] - 81s 173ms/step - loss: 0.0864 - val_loss: 0.0852\n",
            "Epoch 41/50\n",
            "469/469 [==============================] - 80s 172ms/step - loss: 0.0862 - val_loss: 0.0857\n",
            "Epoch 42/50\n",
            "469/469 [==============================] - 80s 171ms/step - loss: 0.0861 - val_loss: 0.0856\n",
            "Epoch 43/50\n",
            "469/469 [==============================] - 80s 171ms/step - loss: 0.0859 - val_loss: 0.0849\n",
            "Epoch 44/50\n",
            "469/469 [==============================] - 80s 170ms/step - loss: 0.0858 - val_loss: 0.0847\n",
            "Epoch 45/50\n",
            "469/469 [==============================] - 80s 170ms/step - loss: 0.0856 - val_loss: 0.0852\n",
            "Epoch 46/50\n",
            "469/469 [==============================] - 80s 171ms/step - loss: 0.0855 - val_loss: 0.0843\n",
            "Epoch 47/50\n",
            "469/469 [==============================] - 80s 170ms/step - loss: 0.0853 - val_loss: 0.0842\n",
            "Epoch 48/50\n",
            "469/469 [==============================] - 80s 171ms/step - loss: 0.0852 - val_loss: 0.0840\n",
            "Epoch 49/50\n",
            "469/469 [==============================] - 79s 169ms/step - loss: 0.0851 - val_loss: 0.0841\n",
            "Epoch 50/50\n",
            "469/469 [==============================] - 80s 170ms/step - loss: 0.0850 - val_loss: 0.0839\n"
          ],
          "name": "stdout"
        },
        {
          "output_type": "display_data",
          "data": {
            "image/png": "[encoded data removed]",
            "text/plain": [
              "<Figure size 504x144 with 10 Axes>"
            ]
          },
          "metadata": {
            "tags": []
          }
        }
      ]
    },
    {
      "cell_type": "code",
      "metadata": {
        "id": "fxscKtIV0Dpv",
        "colab_type": "code",
        "colab": {}
      },
      "source": [
        ""
      ],
      "execution_count": 0,
      "outputs": []
    }
  ]
}
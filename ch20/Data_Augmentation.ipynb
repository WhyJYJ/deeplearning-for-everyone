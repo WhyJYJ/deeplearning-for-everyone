{
  "nbformat": 4,
  "nbformat_minor": 0,
  "metadata": {
    "kernelspec": {
      "display_name": "Python 3",
      "language": "python",
      "name": "python3"
    },
    "language_info": {
      "codemirror_mode": {
        "name": "ipython",
        "version": 3
      },
      "file_extension": ".py",
      "mimetype": "text/x-python",
      "name": "python",
      "nbconvert_exporter": "python",
      "pygments_lexer": "ipython3",
      "version": "3.7.3"
    },
    "colab": {
      "name": "Data_Augmentation.ipynb",
      "provenance": [],
      "toc_visible": true
    }
  },
  "cells": [
    {
      "cell_type": "markdown",
      "metadata": {
        "id": "-W3mXsPswohm",
        "colab_type": "text"
      },
      "source": [
        "# 20장 전이 학습을 통해 딥러닝의 성능 극대화하기\n",
        "20-1 치매 환자의 뇌인지 일반인의 뇌인지 예측하기"
      ]
    },
    {
      "cell_type": "code",
      "metadata": {
        "id": "vBFlsLUsTcwh",
        "colab_type": "code",
        "colab": {}
      },
      "source": [
        "from google.colab import drive\n",
        "drive.mount('/content/drive')"
      ],
      "execution_count": 0,
      "outputs": []
    },
    {
      "cell_type": "code",
      "metadata": {
        "id": "kjrlz9Y-yHjj",
        "colab_type": "code",
        "colab": {}
      },
      "source": [
        "import tensorflow as tf\n",
        "import numpy as np\n",
        "import matplotlib.pyplot as plt\n",
        "\n",
        "from tensorflow.keras.models import Sequential\n",
        "from tensorflow.keras.layers import Dense, Activation, Dropout, Flatten, Dense, Conv2D, MaxPooling2D\n",
        "from tensorflow.keras.preprocessing.image import ImageDataGenerator\n",
        "from tensorflow.keras import optimizers, initializers, regularizers, metrics\n",
        "\n",
        "np.random.seed(3)\n",
        "tf.random.set_seed(3)"
      ],
      "execution_count": 0,
      "outputs": []
    },
    {
      "cell_type": "markdown",
      "metadata": {
        "id": "LDwNhRUoyMTt",
        "colab_type": "text"
      },
      "source": [
        "***학습셋 데이터 읽어오기 & 부풀리기***\n",
        "\n",
        "**ImageDataGenerator**\n",
        "* 주어진 데이터를 이용해 변형된 이미지를 만들어 학습셋에 포함시킴\n",
        "* 데이터의 수 확장시 효과적으로 사용"
      ]
    },
    {
      "cell_type": "code",
      "metadata": {
        "id": "OMQHWtdV0RSB",
        "colab_type": "code",
        "colab": {
          "base_uri": "https://localhost:8080/",
          "height": 34
        },
        "outputId": "aaaddff2-8ea5-479b-b589-e45f98fd5746"
      },
      "source": [
        "train_datagen = ImageDataGenerator(rescale=1./255,\n",
        "                                  horizontal_flip=True,     #수평 대칭 이미지를 50% 확률로 만들어 추가\n",
        "                                  width_shift_range=0.1,  #전체 크기의 10% 범위에서 좌우로 이동\n",
        "                                  height_shift_range=0.1, #마찬가지로 위, 아래로 이동\n",
        "                                  #rotation_range=5,\n",
        "                                  #shear_range=0.7,\n",
        "                                  #zoom_range=[0.9, 2.2],\n",
        "                                  #vertical_flip=True,\n",
        "                                  fill_mode='nearest') \n",
        "\n",
        "train_generator = train_datagen.flow_from_directory(\n",
        "       '/content/drive/My Drive/run_project/train',   \n",
        "       target_size=(150, 150),\n",
        "       batch_size=5,\n",
        "       class_mode='binary')"
      ],
      "execution_count": 3,
      "outputs": [
        {
          "output_type": "stream",
          "text": [
            "Found 160 images belonging to 2 classes.\n"
          ],
          "name": "stdout"
        }
      ]
    },
    {
      "cell_type": "markdown",
      "metadata": {
        "id": "a32C753B0UBx",
        "colab_type": "text"
      },
      "source": [
        "***테스트셋***\n",
        "* 실제 정보를 그대로 유지하게 하는 편이 과적합의 위험을 줄일 수 있으므로 부풀리기를 하지 않음\n",
        "\n"
      ]
    },
    {
      "cell_type": "code",
      "metadata": {
        "id": "IgXh4ixxy026",
        "colab_type": "code",
        "colab": {
          "base_uri": "https://localhost:8080/",
          "height": 34
        },
        "outputId": "e4332bfc-5890-46c0-bbef-4bbc5f2fada6"
      },
      "source": [
        "#테스트 셋은 이미지 부풀리기 과정을 진행하지 않음\n",
        "test_datagen = ImageDataGenerator(rescale=1./255)  \n",
        "\n",
        "test_generator = test_datagen.flow_from_directory(\n",
        "       '/content/drive/My Drive/run_project/test',   \n",
        "       target_size=(150, 150),\n",
        "       batch_size=5,\n",
        "       class_mode='binary')"
      ],
      "execution_count": 4,
      "outputs": [
        {
          "output_type": "stream",
          "text": [
            "Found 120 images belonging to 2 classes.\n"
          ],
          "name": "stdout"
        }
      ]
    },
    {
      "cell_type": "code",
      "metadata": {
        "id": "nvBHCnaAQU4O",
        "colab_type": "code",
        "outputId": "dcd5de77-b73d-4e86-b7d0-5eba6b9e8e86",
        "colab": {
          "base_uri": "https://localhost:8080/",
          "height": 1000
        }
      },
      "source": [
        "# 앞서 배운 CNN 모델을 만들어 적용해 만들기\n",
        "model = Sequential()\n",
        "model.add(Conv2D(32, (3, 3), input_shape=(150,150,3)))\n",
        "model.add(Activation('relu'))\n",
        "model.add(MaxPooling2D(pool_size=(2, 2)))\n",
        "\n",
        "model.add(Conv2D(32, (3, 3)))\n",
        "model.add(Activation('relu'))\n",
        "model.add(MaxPooling2D(pool_size=(2, 2)))\n",
        "\n",
        "model.add(Conv2D(64, (3, 3)))\n",
        "model.add(Activation('relu'))\n",
        "model.add(MaxPooling2D(pool_size=(2, 2)))\n",
        "\n",
        "model.add(Flatten())\n",
        "model.add(Dense(64))\n",
        "model.add(Activation('relu'))\n",
        "model.add(Dropout(0.5))\n",
        "model.add(Dense(2))\n",
        "model.add(Activation('sigmoid'))\n",
        "\n",
        "#모델을 컴파일\n",
        "model.compile(loss='sparse_categorical_crossentropy', optimizer=optimizers.Adam(learning_rate=0.0002), metrics=['accuracy'])\n",
        "\n",
        "#모델을 실행\n",
        "history = model.fit_generator(\n",
        "       train_generator,\n",
        "       steps_per_epoch=100,\n",
        "       epochs=20,\n",
        "       validation_data=test_generator,\n",
        "       validation_steps=10)\n",
        "\n",
        "#결과를 그래프로 표현하는 부분\n",
        "acc= history.history['accuracy']\n",
        "val_acc= history.history['val_accuracy']\n",
        "y_vloss = history.history['val_loss']\n",
        "y_loss = history.history['loss']\n",
        "\n",
        "x_len = np.arange(len(y_loss))  \n",
        "plt.plot(x_len, acc, marker='.', c=\"red\", label='Trainset_acc')\n",
        "plt.plot(x_len, val_acc, marker='.', c=\"lightcoral\", label='Testset_acc')\n",
        "plt.plot(x_len, y_vloss, marker='.', c=\"cornflowerblue\", label='Testset_loss')\n",
        "plt.plot(x_len, y_loss, marker='.', c=\"blue\", label='Trainset_loss')\n",
        "\n",
        "plt.legend(loc='upper right') \n",
        "plt.grid()\n",
        "plt.xlabel('epoch')\n",
        "plt.ylabel('loss/acc')\n",
        "plt.show()\n"
      ],
      "execution_count": 5,
      "outputs": [
        {
          "output_type": "stream",
          "text": [
            "WARNING:tensorflow:From <ipython-input-5-eded6b242206>:30: Model.fit_generator (from tensorflow.python.keras.engine.training) is deprecated and will be removed in a future version.\n",
            "Instructions for updating:\n",
            "Please use Model.fit, which supports generators.\n",
            "Epoch 1/20\n",
            "100/100 [==============================] - 73s 726ms/step - loss: 0.6926 - accuracy: 0.5220 - val_loss: 0.6886 - val_accuracy: 0.4800\n",
            "Epoch 2/20\n",
            "100/100 [==============================] - 40s 399ms/step - loss: 0.6857 - accuracy: 0.5620 - val_loss: 0.6840 - val_accuracy: 0.5600\n",
            "Epoch 3/20\n",
            "100/100 [==============================] - 20s 195ms/step - loss: 0.6464 - accuracy: 0.6600 - val_loss: 0.5343 - val_accuracy: 0.7800\n",
            "Epoch 4/20\n",
            "100/100 [==============================] - 17s 168ms/step - loss: 0.5738 - accuracy: 0.7400 - val_loss: 0.5227 - val_accuracy: 0.6800\n",
            "Epoch 5/20\n",
            "100/100 [==============================] - 17s 168ms/step - loss: 0.4954 - accuracy: 0.7720 - val_loss: 0.3570 - val_accuracy: 0.7800\n",
            "Epoch 6/20\n",
            "100/100 [==============================] - 17s 169ms/step - loss: 0.4305 - accuracy: 0.8180 - val_loss: 0.3153 - val_accuracy: 0.8400\n",
            "Epoch 7/20\n",
            "100/100 [==============================] - 17s 168ms/step - loss: 0.3064 - accuracy: 0.8960 - val_loss: 0.1529 - val_accuracy: 0.9600\n",
            "Epoch 8/20\n",
            "100/100 [==============================] - 17s 167ms/step - loss: 0.2942 - accuracy: 0.8980 - val_loss: 0.0964 - val_accuracy: 0.9800\n",
            "Epoch 9/20\n",
            "100/100 [==============================] - 17s 168ms/step - loss: 0.2492 - accuracy: 0.9220 - val_loss: 0.2839 - val_accuracy: 0.8800\n",
            "Epoch 10/20\n",
            "100/100 [==============================] - 17s 168ms/step - loss: 0.1949 - accuracy: 0.9260 - val_loss: 0.1010 - val_accuracy: 0.9800\n",
            "Epoch 11/20\n",
            "100/100 [==============================] - 17s 168ms/step - loss: 0.1770 - accuracy: 0.9420 - val_loss: 0.0905 - val_accuracy: 0.9600\n",
            "Epoch 12/20\n",
            "100/100 [==============================] - 17s 167ms/step - loss: 0.2114 - accuracy: 0.9500 - val_loss: 0.0729 - val_accuracy: 1.0000\n",
            "Epoch 13/20\n",
            "100/100 [==============================] - 17s 167ms/step - loss: 0.1477 - accuracy: 0.9500 - val_loss: 0.0491 - val_accuracy: 0.9800\n",
            "Epoch 14/20\n",
            "100/100 [==============================] - 17s 168ms/step - loss: 0.1501 - accuracy: 0.9480 - val_loss: 0.0959 - val_accuracy: 0.9600\n",
            "Epoch 15/20\n",
            "100/100 [==============================] - 17s 168ms/step - loss: 0.1713 - accuracy: 0.9440 - val_loss: 0.0813 - val_accuracy: 0.9800\n",
            "Epoch 16/20\n",
            "100/100 [==============================] - 17s 168ms/step - loss: 0.1326 - accuracy: 0.9600 - val_loss: 0.0462 - val_accuracy: 0.9800\n",
            "Epoch 17/20\n",
            "100/100 [==============================] - 17s 168ms/step - loss: 0.1531 - accuracy: 0.9460 - val_loss: 0.0568 - val_accuracy: 0.9600\n",
            "Epoch 18/20\n",
            "100/100 [==============================] - 17s 169ms/step - loss: 0.1185 - accuracy: 0.9660 - val_loss: 0.1332 - val_accuracy: 0.9600\n",
            "Epoch 19/20\n",
            "100/100 [==============================] - 17s 168ms/step - loss: 0.1217 - accuracy: 0.9580 - val_loss: 0.1246 - val_accuracy: 0.9600\n",
            "Epoch 20/20\n",
            "100/100 [==============================] - 17s 168ms/step - loss: 0.1270 - accuracy: 0.9600 - val_loss: 0.0216 - val_accuracy: 1.0000\n"
          ],
          "name": "stdout"
        },
        {
          "output_type": "display_data",
          "data": {
            "image/png": "[encoded data removed]",
            "text/plain": [
              "<Figure size 432x288 with 1 Axes>"
            ]
          },
          "metadata": {
            "tags": []
          }
        }
      ]
    },
    {
      "cell_type": "code",
      "metadata": {
        "id": "Yk-VcUZGQU4r",
        "colab_type": "code",
        "colab": {}
      },
      "source": [
        ""
      ],
      "execution_count": 0,
      "outputs": []
    }
  ]
}
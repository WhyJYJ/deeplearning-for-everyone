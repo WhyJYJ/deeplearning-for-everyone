{
  "nbformat": 4,
  "nbformat_minor": 0,
  "metadata": {
    "kernelspec": {
      "display_name": "Python 3",
      "language": "python",
      "name": "python3"
    },
    "language_info": {
      "codemirror_mode": {
        "name": "ipython",
        "version": 3
      },
      "file_extension": ".py",
      "mimetype": "text/x-python",
      "name": "python",
      "nbconvert_exporter": "python",
      "pygments_lexer": "ipython3",
      "version": "3.6.9"
    },
    "colab": {
      "name": "Transfer_Learning.ipynb",
      "provenance": [],
      "include_colab_link": true
    }
  },
  "cells": [
    {
      "cell_type": "markdown",
      "metadata": {
        "id": "view-in-github",
        "colab_type": "text"
      },
      "source": [
        "<a href=\"https://colab.research.google.com/github/WhyJYJ/deeplearning-for-everyone/blob/master/ch20/Transfer_Learning.ipynb\" target=\"_parent\"><img src=\"https://colab.research.google.com/assets/colab-badge.svg\" alt=\"Open In Colab\"/></a>"
      ]
    },
    {
      "cell_type": "markdown",
      "metadata": {
        "id": "hDZnZcHvmyt0",
        "colab_type": "text"
      },
      "source": [
        "# 20장 전이 학습을 통해 딥러닝의 성능 극대화하기\n",
        "\n",
        "20-2 전이 학습 실습하기"
      ]
    },
    {
      "cell_type": "code",
      "metadata": {
        "id": "IzUBkQq6WgS5",
        "colab_type": "code",
        "colab": {}
      },
      "source": [
        "from google.colab import drive\n",
        "drive.mount('/content/drive')"
      ],
      "execution_count": 0,
      "outputs": []
    },
    {
      "cell_type": "code",
      "metadata": {
        "id": "348tPKIRoZS8",
        "colab_type": "code",
        "outputId": "88531853-2af9-4e75-8bf7-5f4cec3bd979",
        "colab": {
          "base_uri": "https://localhost:8080/",
          "height": 52
        }
      },
      "source": [
        "import tensorflow as tf\n",
        "import numpy as np\n",
        "import matplotlib.pyplot as plt\n",
        "\n",
        "from tensorflow.keras.preprocessing.image import ImageDataGenerator\n",
        "from tensorflow.keras import Input, models, layers, optimizers, metrics\n",
        "from tensorflow.keras.layers import Dense, Flatten\n",
        "from tensorflow.keras.applications import VGG16\n",
        "\n",
        "np.random.seed(3)\n",
        "tf.compat.v1.set_random_seed(3)\n",
        "\n",
        "train_datagen = ImageDataGenerator(rescale=1./255,\n",
        "                                  horizontal_flip=True,\n",
        "                                  width_shift_range=0.1,\n",
        "                                  height_shift_range=0.1,\n",
        "                                  fill_mode='nearest')\n",
        "\n",
        "train_generator = train_datagen.flow_from_directory(\n",
        "       '/content/drive/My Drive/run_project/train',\n",
        "       target_size=(150, 150),\n",
        "       batch_size=5,\n",
        "       class_mode='binary')\n",
        "\n",
        "test_datagen = ImageDataGenerator(rescale=1./255)\n",
        "\n",
        "test_generator = test_datagen.flow_from_directory(\n",
        "       '/content/drive/My Drive/run_project/test',\n",
        "       target_size=(150, 150),\n",
        "       batch_size=5,\n",
        "       class_mode='binary')"
      ],
      "execution_count": 0,
      "outputs": [
        {
          "output_type": "stream",
          "text": [
            "Found 160 images belonging to 2 classes.\n",
            "Found 120 images belonging to 2 classes.\n"
          ],
          "name": "stdout"
        }
      ]
    },
    {
      "cell_type": "code",
      "metadata": {
        "id": "F3QWi9sVoeRs",
        "colab_type": "code",
        "outputId": "43194b68-e639-4d66-dc2a-7cea1aa22e37",
        "colab": {
          "base_uri": "https://localhost:8080/",
          "height": 862
        }
      },
      "source": [
        "transfer_model = VGG16(weights='imagenet', include_top=False, input_shape=(150, 150, 3))\n",
        "transfer_model.trainable = False\n",
        "transfer_model.summary()"
      ],
      "execution_count": 0,
      "outputs": [
        {
          "output_type": "stream",
          "text": [
            "Downloading data from https://storage.googleapis.com/tensorflow/keras-applications/vgg16/vgg16_weights_tf_dim_ordering_tf_kernels_notop.h5\n",
            "58892288/58889256 [==============================] - 1s 0us/step\n",
            "Model: \"vgg16\"\n",
            "_________________________________________________________________\n",
            "Layer (type)                 Output Shape              Param #   \n",
            "=================================================================\n",
            "input_1 (InputLayer)         [(None, 150, 150, 3)]     0         \n",
            "_________________________________________________________________\n",
            "block1_conv1 (Conv2D)        (None, 150, 150, 64)      1792      \n",
            "_________________________________________________________________\n",
            "block1_conv2 (Conv2D)        (None, 150, 150, 64)      36928     \n",
            "_________________________________________________________________\n",
            "block1_pool (MaxPooling2D)   (None, 75, 75, 64)        0         \n",
            "_________________________________________________________________\n",
            "block2_conv1 (Conv2D)        (None, 75, 75, 128)       73856     \n",
            "_________________________________________________________________\n",
            "block2_conv2 (Conv2D)        (None, 75, 75, 128)       147584    \n",
            "_________________________________________________________________\n",
            "block2_pool (MaxPooling2D)   (None, 37, 37, 128)       0         \n",
            "_________________________________________________________________\n",
            "block3_conv1 (Conv2D)        (None, 37, 37, 256)       295168    \n",
            "_________________________________________________________________\n",
            "block3_conv2 (Conv2D)        (None, 37, 37, 256)       590080    \n",
            "_________________________________________________________________\n",
            "block3_conv3 (Conv2D)        (None, 37, 37, 256)       590080    \n",
            "_________________________________________________________________\n",
            "block3_pool (MaxPooling2D)   (None, 18, 18, 256)       0         \n",
            "_________________________________________________________________\n",
            "block4_conv1 (Conv2D)        (None, 18, 18, 512)       1180160   \n",
            "_________________________________________________________________\n",
            "block4_conv2 (Conv2D)        (None, 18, 18, 512)       2359808   \n",
            "_________________________________________________________________\n",
            "block4_conv3 (Conv2D)        (None, 18, 18, 512)       2359808   \n",
            "_________________________________________________________________\n",
            "block4_pool (MaxPooling2D)   (None, 9, 9, 512)         0         \n",
            "_________________________________________________________________\n",
            "block5_conv1 (Conv2D)        (None, 9, 9, 512)         2359808   \n",
            "_________________________________________________________________\n",
            "block5_conv2 (Conv2D)        (None, 9, 9, 512)         2359808   \n",
            "_________________________________________________________________\n",
            "block5_conv3 (Conv2D)        (None, 9, 9, 512)         2359808   \n",
            "_________________________________________________________________\n",
            "block5_pool (MaxPooling2D)   (None, 4, 4, 512)         0         \n",
            "=================================================================\n",
            "Total params: 14,714,688\n",
            "Trainable params: 0\n",
            "Non-trainable params: 14,714,688\n",
            "_________________________________________________________________\n"
          ],
          "name": "stdout"
        }
      ]
    },
    {
      "cell_type": "markdown",
      "metadata": {
        "id": "-jtilKiSpC0S",
        "colab_type": "text"
      },
      "source": [
        "***로컬 네트워크 만들기***"
      ]
    },
    {
      "cell_type": "code",
      "metadata": {
        "id": "cSgSpZQUoibw",
        "colab_type": "code",
        "outputId": "ea699616-f0f8-41d3-96b2-bd40e8b9d813",
        "colab": {
          "base_uri": "https://localhost:8080/",
          "height": 298
        }
      },
      "source": [
        "finetune_model = models.Sequential()\n",
        "finetune_model.add(transfer_model)\n",
        "finetune_model.add(Flatten())\n",
        "finetune_model.add(Dense(64, activation='relu'))\n",
        "finetune_model.add(Dense(2, activation='softmax'))\n",
        "finetune_model.summary()"
      ],
      "execution_count": 0,
      "outputs": [
        {
          "output_type": "stream",
          "text": [
            "Model: \"sequential\"\n",
            "_________________________________________________________________\n",
            "Layer (type)                 Output Shape              Param #   \n",
            "=================================================================\n",
            "vgg16 (Model)                (None, 4, 4, 512)         14714688  \n",
            "_________________________________________________________________\n",
            "flatten (Flatten)            (None, 8192)              0         \n",
            "_________________________________________________________________\n",
            "dense (Dense)                (None, 64)                524352    \n",
            "_________________________________________________________________\n",
            "dense_1 (Dense)              (None, 2)                 130       \n",
            "=================================================================\n",
            "Total params: 15,239,170\n",
            "Trainable params: 524,482\n",
            "Non-trainable params: 14,714,688\n",
            "_________________________________________________________________\n"
          ],
          "name": "stdout"
        }
      ]
    },
    {
      "cell_type": "code",
      "metadata": {
        "id": "xT8bVKk1V447",
        "colab_type": "code",
        "outputId": "a7cdf5ec-5ff1-4fed-fc59-69ab23602da5",
        "colab": {
          "base_uri": "https://localhost:8080/",
          "height": 1000
        }
      },
      "source": [
        "finetune_model.compile(loss='sparse_categorical_crossentropy', optimizer=optimizers.Adam(learning_rate=0.0002), metrics=['accuracy'])\n",
        "\n",
        "history = finetune_model.fit_generator(\n",
        "       train_generator,\n",
        "       steps_per_epoch=100,\n",
        "       epochs=20,\n",
        "       validation_data=test_generator,\n",
        "       validation_steps=4)\n",
        "\n",
        "acc= history.history['accuracy']\n",
        "val_acc= history.history['val_accuracy']\n",
        "y_vloss = history.history['val_loss']\n",
        "y_loss = history.history['loss']\n",
        "\n",
        "# 그래프로 표현\n",
        "x_len = np.arange(len(y_loss))\n",
        "plt.plot(x_len, acc, marker='.', c=\"red\", label='Trainset_acc')\n",
        "plt.plot(x_len, val_acc, marker='.', c=\"lightcoral\", label='Testset_acc')\n",
        "plt.plot(x_len, y_vloss, marker='.', c=\"cornflowerblue\", label='Testset_loss')\n",
        "plt.plot(x_len, y_loss, marker='.', c=\"blue\", label='Trainset_loss')\n",
        "\n",
        "# 그래프에 그리드를 주고 레이블을 표시\n",
        "plt.legend(loc='upper right')\n",
        "plt.grid()\n",
        "plt.xlabel('epoch')\n",
        "plt.ylabel('loss/acc')\n",
        "plt.show()\n"
      ],
      "execution_count": 0,
      "outputs": [
        {
          "output_type": "stream",
          "text": [
            "WARNING:tensorflow:From <ipython-input-5-7495f37fca22>:8: Model.fit_generator (from tensorflow.python.keras.engine.training) is deprecated and will be removed in a future version.\n",
            "Instructions for updating:\n",
            "Please use Model.fit, which supports generators.\n",
            "Epoch 1/20\n",
            "100/100 [==============================] - 166s 2s/step - loss: 0.3886 - accuracy: 0.8400 - val_loss: 0.3157 - val_accuracy: 0.9000\n",
            "Epoch 2/20\n",
            "100/100 [==============================] - 123s 1s/step - loss: 0.2051 - accuracy: 0.9320 - val_loss: 0.2864 - val_accuracy: 0.8000\n",
            "Epoch 3/20\n",
            "100/100 [==============================] - 122s 1s/step - loss: 0.1457 - accuracy: 0.9560 - val_loss: 0.2203 - val_accuracy: 0.9000\n",
            "Epoch 4/20\n",
            "100/100 [==============================] - 122s 1s/step - loss: 0.1328 - accuracy: 0.9540 - val_loss: 0.0921 - val_accuracy: 0.9500\n",
            "Epoch 5/20\n",
            "100/100 [==============================] - 121s 1s/step - loss: 0.0926 - accuracy: 0.9600 - val_loss: 0.0711 - val_accuracy: 0.9500\n",
            "Epoch 6/20\n",
            "100/100 [==============================] - 115s 1s/step - loss: 0.0793 - accuracy: 0.9780 - val_loss: 0.0235 - val_accuracy: 1.0000\n",
            "Epoch 7/20\n",
            "100/100 [==============================] - 115s 1s/step - loss: 0.0846 - accuracy: 0.9680 - val_loss: 0.0703 - val_accuracy: 1.0000\n",
            "Epoch 8/20\n",
            "100/100 [==============================] - 115s 1s/step - loss: 0.0782 - accuracy: 0.9700 - val_loss: 0.1093 - val_accuracy: 1.0000\n",
            "Epoch 9/20\n",
            "100/100 [==============================] - 115s 1s/step - loss: 0.0538 - accuracy: 0.9900 - val_loss: 0.2390 - val_accuracy: 0.9000\n",
            "Epoch 10/20\n",
            "100/100 [==============================] - 115s 1s/step - loss: 0.0572 - accuracy: 0.9800 - val_loss: 0.0221 - val_accuracy: 1.0000\n",
            "Epoch 11/20\n",
            "100/100 [==============================] - 115s 1s/step - loss: 0.0407 - accuracy: 0.9940 - val_loss: 0.1282 - val_accuracy: 0.9500\n",
            "Epoch 12/20\n",
            "100/100 [==============================] - 115s 1s/step - loss: 0.0366 - accuracy: 0.9940 - val_loss: 0.1749 - val_accuracy: 0.9500\n",
            "Epoch 13/20\n",
            "100/100 [==============================] - 115s 1s/step - loss: 0.0374 - accuracy: 0.9920 - val_loss: 0.0248 - val_accuracy: 1.0000\n",
            "Epoch 14/20\n",
            "100/100 [==============================] - 115s 1s/step - loss: 0.0438 - accuracy: 0.9900 - val_loss: 0.0616 - val_accuracy: 0.9500\n",
            "Epoch 15/20\n",
            "100/100 [==============================] - 115s 1s/step - loss: 0.0307 - accuracy: 0.9920 - val_loss: 0.0260 - val_accuracy: 1.0000\n",
            "Epoch 16/20\n",
            "100/100 [==============================] - 115s 1s/step - loss: 0.0216 - accuracy: 0.9960 - val_loss: 0.1080 - val_accuracy: 0.9500\n",
            "Epoch 17/20\n",
            "100/100 [==============================] - 115s 1s/step - loss: 0.0251 - accuracy: 0.9960 - val_loss: 0.0525 - val_accuracy: 0.9500\n",
            "Epoch 18/20\n",
            "100/100 [==============================] - 115s 1s/step - loss: 0.0204 - accuracy: 0.9960 - val_loss: 0.1201 - val_accuracy: 0.9500\n",
            "Epoch 19/20\n",
            "100/100 [==============================] - 115s 1s/step - loss: 0.0165 - accuracy: 1.0000 - val_loss: 0.0443 - val_accuracy: 0.9500\n",
            "Epoch 20/20\n",
            "100/100 [==============================] - 115s 1s/step - loss: 0.0151 - accuracy: 0.9980 - val_loss: 0.2170 - val_accuracy: 0.9000\n"
          ],
          "name": "stdout"
        },
        {
          "output_type": "display_data",
          "data": {
            "image/png": "[encoded data removed]",
            "text/plain": [
              "<Figure size 432x288 with 1 Axes>"
            ]
          },
          "metadata": {
            "tags": []
          }
        }
      ]
    }
  ]
}